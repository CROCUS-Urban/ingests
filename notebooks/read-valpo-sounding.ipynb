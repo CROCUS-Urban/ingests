{
 "cells": [
  {
   "cell_type": "code",
   "execution_count": 225,
   "id": "4dee7ded-83ae-4bf3-a099-64bd7134c75b",
   "metadata": {},
   "outputs": [],
   "source": [
    "import metpy\n",
    "import metpy.calc as mpcalc\n",
    "from metpy.units import units\n",
    "import pandas as pd\n",
    "from metpy.plots import add_metpy_logo, Hodograph, SkewT\n",
    "import matplotlib.pyplot as plt\n",
    "import glob\n",
    "from pathlib import Path"
   ]
  },
  {
   "cell_type": "code",
   "execution_count": 229,
   "id": "61e5daaa-9986-4347-9afd-f1587503fdaa",
   "metadata": {},
   "outputs": [
    {
     "data": {
      "text/plain": [
       "'20240722 1200'"
      ]
     },
     "execution_count": 229,
     "metadata": {},
     "output_type": "execute_result"
    }
   ],
   "source": []
  },
  {
   "cell_type": "code",
   "execution_count": 223,
   "id": "dad4deff-ddd6-46e9-8d90-fa88d313e5da",
   "metadata": {},
   "outputs": [
    {
     "data": {
      "text/plain": [
       "['../data/soundings/valpo-humboldt/IOP1-July-22-23-2024/20240722_1200.GPS',\n",
       " '../data/soundings/valpo-humboldt/IOP1-July-22-23-2024/20240722_1600.GPS',\n",
       " '../data/soundings/valpo-humboldt/IOP1-July-22-23-2024/20240722_1900.GPS',\n",
       " '../data/soundings/valpo-humboldt/IOP1-July-22-23-2024/20240722_1730.GPS']"
      ]
     },
     "execution_count": 223,
     "metadata": {},
     "output_type": "execute_result"
    }
   ],
   "source": [
    "files = glob.glob(\"../data/soundings/valpo-humboldt/IOP1-July-22-23-2024/*\")\n",
    "files"
   ]
  },
  {
   "cell_type": "code",
   "execution_count": 243,
   "id": "1b4d1e59-dec9-43d5-9702-62bc79a02fb5",
   "metadata": {},
   "outputs": [],
   "source": [
    "for file in files:\n",
    "    df = pd.read_csv(file,\n",
    "                     skiprows=[0, 1, 2, 3, 4, 5, 6, 7, 8, 10,],\n",
    "                     delim_whitespace=True,)\n",
    "    \n",
    "    # Fix the incorrect column name due to space in Elapsed time\n",
    "    good_columns = df.columns[1:]\n",
    "    df = df.drop(columns=\"HeightE\")\n",
    "    df.columns = good_columns\n",
    "\n",
    "    p = df['P'].values * units.hPa\n",
    "    z = df['HeightMSL'].values * units.m\n",
    "    T = df['Temp'].values * units.degC\n",
    "    Td = df['Dewp'].values * units.degC\n",
    "    wind_speed = df['Speed'].values * units.knots\n",
    "    wind_dir = df['Dir'].values * units.degrees\n",
    "    u, v = mpcalc.wind_components(wind_speed, wind_dir)\n",
    "\n",
    "    resample_freq = 80\n",
    "    fig = plt.figure(figsize=(9, 9))\n",
    "    skew = SkewT(fig, rotation=45, rect=(0.1, 0.1, 0.55, 0.85))\n",
    "    \n",
    "    # Plot the data using normal plotting functions, in this case using\n",
    "    # log scaling in Y, as dictated by the typical meteorological plot\n",
    "    skew.plot(p[::resample_freq], T[::resample_freq], 'r')\n",
    "    skew.plot(p[::resample_freq], Td[::resample_freq], 'g')\n",
    "    skew.plot_barbs(p[::resample_freq], u[::resample_freq], v[::resample_freq])\n",
    "    \n",
    "    # Change to adjust data limits and give it a semblance of what we want\n",
    "    skew.ax.set_adjustable('datalim')\n",
    "    skew.ax.set_ylim(1000, 100)\n",
    "    skew.ax.set_xlim(-20, 30)\n",
    "    \n",
    "    # Add the relevant special lines\n",
    "    skew.plot_dry_adiabats()\n",
    "    skew.plot_moist_adiabats()\n",
    "    skew.plot_mixing_lines()\n",
    "    time_date = Path(file).stem.replace(\"_\", \" \")\n",
    "    plt.title(f\"KHUM Sounding {time_date} UTC \\n From Albizu Campos High School\", fontsize=14)\n",
    "    \n",
    "    # Create a hodograph\n",
    "    ax = plt.axes((0.7, 0.75, 0.2, 0.2))\n",
    "    h = Hodograph(ax, component_range=15.)\n",
    "    h.add_grid(increment=20)\n",
    "    h.plot(u, v)\n",
    "    \n",
    "    \n",
    "    plt.savefig(Path(file).stem + \".png\")\n",
    "    plt.close()"
   ]
  },
  {
   "cell_type": "code",
   "execution_count": null,
   "id": "1de493e3-9c8b-4761-95dd-d44f4c001bfd",
   "metadata": {},
   "outputs": [],
   "source": []
  }
 ],
 "metadata": {
  "kernelspec": {
   "display_name": "Python 3 (ipykernel)",
   "language": "python",
   "name": "python3"
  },
  "language_info": {
   "codemirror_mode": {
    "name": "ipython",
    "version": 3
   },
   "file_extension": ".py",
   "mimetype": "text/x-python",
   "name": "python",
   "nbconvert_exporter": "python",
   "pygments_lexer": "ipython3",
   "version": "3.11.6"
  }
 },
 "nbformat": 4,
 "nbformat_minor": 5
}
